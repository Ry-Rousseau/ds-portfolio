{
 "cells": [
  {
   "cell_type": "markdown",
   "metadata": {},
   "source": [
    "## Project Overview\n",
    "\n",
    "This project analyzes a network of Wikipedia editors and their interactions through article reverts. Using Romanian Wikipedia editing data from 2006, we construct a directed network where nodes represent editors and edges represent revert actions between them.\n",
    "\n",
    "The analysis focuses on three main aspects:\n",
    "1. Building a network of \"who reverted whom\" to understand the relationship dynamics between editors\n",
    "2. Identifying patterns of reciprocal reverts (when editor A reverts editor B, and then B reverts A within 24 hours)\n",
    "3. Examining the role of editor seniority in revert behaviors, particularly whether editors of similar experience levels are more likely to engage in revert conflicts\n",
    "\n",
    "The implementation prioritizes computational efficiency through carefully optimized data structures and algorithms, including custom parsing functions, binary search for temporal lookups, and memory management techniques to handle large datasets.\n",
    "\n",
    "Python packages are generated for modular code implementations in processing and analysis.\n"
   ]
  },
  {
   "cell_type": "markdown",
   "metadata": {
    "slideshow": {
     "slide_type": "slide"
    }
   },
   "source": [
    "### Data\n",
    "\n",
    "We will use data from the file `../data/rowiki_2006.txt` in the `data` repository on GitHub. \n",
    "To data were originally obtained from the Wikipedia XML Dumps (https://dumps.wikimedia.org/mirrors.html) and include every article edit made on Romanian Wikipedia since it began until the end of 2006. Each line in the file is an edit and includes the title of the edited article, the time when the edit was submitted, whether the edit was a revert, the version of the article, and the user who submitted the edit. To detect the article versions, a hash was calculated for the complete article text following each revision and the hashes were compared between edits. \n",
    "\n",
    "The table below describes the variables in the data:\n",
    "\n",
    "| Variable   | Explanation   \n",
    "|:-----------|:-------\n",
    "| title      | title of the edited article               \n",
    "| time       | time in the format YYYY-MM-DD HH:MM:SS when the edit was completed  \n",
    "| revert     | 1 if the edit was detected to revert to a previous article version, 0 otherwise \n",
    "| version    | an integer indicating a unique state of the article, generally increasing over time; -1 indicates the article was empty (usually due to vandalism); if the same number appears more than once, then the article was exactly in the same state at these different time points  \n",
    "| user       | the editor's username or if not logged in, the editor's IP address  \n"
   ]
  },
  {
   "cell_type": "markdown",
   "metadata": {},
   "source": [
    "### 1. Who reverted whom?\n",
    "\n",
    "We will estimate seniority $s_i$ of editor $i$ as the base-ten logarithm of the number of edits $i$ has completed by the time of the revert under question. Transforming the number of edits with the logarithm makes sense because they follow a power-law distribution (the majority of individuals have very few edits, while a handful of individuals are responsible for most of the work). This operationalization allows to express the difference in seniority between two editors as the base-ten logarithm of the ratio of number of edits since $s_i - s_j = \\log_{10} e_i - \\log_{10} e_j = \\log_{10} \\frac{e_i}{e_j}$, where $e_i$ is the number of edits of editor $i$ and $e_j$ is the number of edits of editor $j$. In essence, we assume that an editor who has 10 edits compares to one with 100 edits the same way that an editor with 1,000 edits compares to one with 10,000.\n",
    "\n",
    "This code was heavily optimized for efficiency, reducing initial compute from **30 to 2.4 seconds**. "
   ]
  },
  {
   "cell_type": "code",
   "execution_count": 4,
   "metadata": {},
   "outputs": [
    {
     "name": "stdout",
     "output_type": "stream",
     "text": [
      "First 5 edge rows: [{'reverter': 'Orioane', 'reverted': '*onika*', 'time': datetime.datetime(2006, 11, 23, 8, 51, 12), 'reverter_seniority': 3.527887565952705, 'reverted_seniority': 0.0}, {'reverter': 'Iulianu', 'reverted': '.Vlad', 'time': datetime.datetime(2006, 1, 9, 10, 50, 34), 'reverter_seniority': 3.3988077302032647, 'reverted_seniority': 0.0}, {'reverter': 'Vlad', 'reverted': '10.0.0.8', 'time': datetime.datetime(2005, 10, 11, 16, 56, 2), 'reverter_seniority': 3.512550992904211, 'reverted_seniority': 0.0}, {'reverter': 'AdiJapan', 'reverted': '12.32.83.4', 'time': datetime.datetime(2006, 3, 3, 10, 46, 39), 'reverter_seniority': 3.164352855784437, 'reverted_seniority': 0.6020599913279624}, {'reverter': 'Vlad', 'reverted': '12.32.83.4', 'time': datetime.datetime(2006, 3, 10, 23, 36, 28), 'reverter_seniority': 3.874191804679071, 'reverted_seniority': 0.6989700043360189}]\n",
      "Number of nodes:  4805\n",
      "Number of edges:  7362\n"
     ]
    }
   ],
   "source": [
    "import math\n",
    "from datetime import datetime\n",
    "from edge_processing import find_seniority\n",
    "from data_processing import parse_date\n",
    "\n",
    "# 1) Load data as list of dictionaries\n",
    "\n",
    "# Obtain revert network data\n",
    "wiki_data = []\n",
    "# Open the file and turn into a list of dictionaries\n",
    "with open('data/rowiki_2006.txt', 'r', encoding='utf-8') as file:\n",
    "    columns = file.readline().strip().split('\\t')\n",
    "    for line in file:\n",
    "        values = line.strip().split('\\t')\n",
    "        row_data = {columns[i]: values[i] for i in range(len(columns))}\n",
    "        wiki_data.append(row_data)\n",
    "\n",
    "# Convert the 'time' field to datetime\n",
    "for row in wiki_data:\n",
    "    # Use custom function instead of datetime.strptime because it is faster\n",
    "    row['time'] = parse_date(row['time'])\n",
    "\n",
    "# 2) Find cumulative edits by the user for each edit\n",
    "    \n",
    "# Copy wiki data, sort copy by time, group by user, utilized as look-up table in later seniority calculation \n",
    "wiki_user_sort = wiki_data.copy()\n",
    "wiki_user_sort.sort(key = lambda x: (x['user'], x['time']))\n",
    "\n",
    "# Store counters for next section\n",
    "total_edits = 0\n",
    "user_edits_dict = {}\n",
    "user_data = []\n",
    "prev_user = None\n",
    "\n",
    "# Iterate over edits sorted in order of user and time in order to:\n",
    "# a) find cumulative edits\n",
    "# b) store each's user's total edits in a dictionary, used as a look-up table in the next section\n",
    "for row in wiki_user_sort:\n",
    "    # If new user:\n",
    "    if row['user'] != prev_user:\n",
    "        # Handle first row\n",
    "        if prev_user is not None:\n",
    "            user_edits_dict[prev_user] = user_data\n",
    "        # Reset cumulative edits\n",
    "        total_edits = 1\n",
    "        # Reset user data record\n",
    "        user_data = []\n",
    "        # Update previous user\n",
    "        prev_user = row['user']\n",
    "    # If same user, increment cumulative edits\n",
    "    else:\n",
    "        total_edits += 1\n",
    "    # Add cumulative edits to row\n",
    "    row['cum_edits'] = total_edits\n",
    "    # Store user edit data in dictionary with key = user, value = list of dictionaries (where index increases with time)\n",
    "    user_data.append({'time': row['time'], 'cum_edits': total_edits})\n",
    "\n",
    "# Adding the last user's data\n",
    "if prev_user is not None:\n",
    "    user_edits_dict[prev_user] = user_data\n",
    "\n",
    "# 3) Create edge list\n",
    "\n",
    "# Sort edits list by time and group by title\n",
    "# This ordering will be used as a lookup table in the next step, where index is used to chronologically iterate over user edits\n",
    "wiki_data.sort(key=lambda x: (x['title'], x['time']))\n",
    "\n",
    "# Generate a simplified list of revert and version numbers to speed up row iteration \n",
    "revert_version_list = [[int(row['revert']), int(row['version'])] for row in wiki_data]\n",
    "\n",
    "edge_list = []\n",
    "# Keep track of visited edits to perform backwards search\n",
    "visited = []\n",
    "edge_list = []\n",
    "\n",
    "#Iterate over the revert_version_list and find the reverter:reverted pairings, and add reverter seniority\n",
    "for index, row in enumerate(revert_version_list):\n",
    "    # Check if row is a revert\n",
    "    if row[0] == 0:\n",
    "        # If not, then add to visited, and move on\n",
    "        visited.append(row)\n",
    "        continue\n",
    "    # For rows that are reverts:\n",
    "    else:\n",
    "        # Reverter index is index of current row\n",
    "        reverter_index = index\n",
    "        # Track distance between current index and index of reverted user (reverted_index) - initialize to 0\n",
    "        distance = 0 \n",
    "        # Iterate over the visited edits starting from the most recent\n",
    "        for visited_row in visited[::-1]:\n",
    "            # Increment distance\n",
    "            distance += 1\n",
    "            # Check if version matches version of the revert, if so\n",
    "            if visited_row[1] == row[1]:\n",
    "                # Record the index of the reverted as one index closer than the distance to the reverted version\n",
    "                reverted_index = reverter_index - distance + 1\n",
    "                break\n",
    "        # Add the row to the visited list, maintains accuracy of the distance measure\n",
    "        visited.append(row)\n",
    "        # Check if it is an 'edit but no change'\n",
    "        if reverter_index == reverted_index:\n",
    "            continue\n",
    "        # Check if it is 'self-revert'\n",
    "        elif wiki_data[reverter_index]['user'] == wiki_data[reverted_index]['user']:\n",
    "            continue\n",
    "        else:\n",
    "        # If it is a true revert, append to list in dictionary format, leave a placeholder for reverted_seniority\n",
    "            edge_list.append({'reverter': wiki_data[reverter_index]['user'], 'reverted': wiki_data[reverted_index]['user'], \n",
    "                                'time': wiki_data[reverter_index]['time'], 'reverter_seniority': math.log10(wiki_data[reverter_index]['cum_edits']),\n",
    "                                'reverted_seniority': 0}) \n",
    "            \n",
    "    # For every true revert, check if the title has changed in the last 20 iterations, if so, reduce visited list size (saves memory)\n",
    "    if wiki_data[index-20]['title'] != wiki_data[index]['title']:\n",
    "        # Keep only previous 20 visited edits, which is sufficient to not miss any reverts\n",
    "        visited = visited[-20:]\n",
    "\n",
    "# 4) To complete the edge list data, add reverted seniority\n",
    "\n",
    "# Sort edge_list by reverted user, to speed up processing, iterate through users in batches\n",
    "edge_list.sort(key=lambda x: x['reverted'])\n",
    "\n",
    "# Initialize user and user data list\n",
    "user = edge_list[0]['reverted']\n",
    "current_user_data_list = user_edits_dict[user]\n",
    "\n",
    "# Iterate through all edges in the edge_list and update 'reverted_seniority'\n",
    "for row in edge_list:\n",
    "    # Check if current reverted user has changed\n",
    "    if row['reverted'] != user:\n",
    "        # If so, update user and user data list\n",
    "        user = row['reverted']\n",
    "        current_user_data_list = user_edits_dict[user]\n",
    "    # Find seniority of reverted user using custom function that utilizes binary search\n",
    "    row['reverted_seniority'] = find_seniority(row['time'], current_user_data_list)\n",
    "\n",
    "# 5) Compute summary statistics\n",
    "\n",
    "# Calculate the total nodes in the network (i.e. unique reverters or reverted users)\n",
    "nodes = []\n",
    "for edge in edge_list:\n",
    "    nodes.append(edge['reverter'])\n",
    "    nodes.append(edge['reverted'])\n",
    "nodes = set(nodes)\n",
    "    \n",
    "# Print the first 5 edges points in the network\n",
    "print(\"First 5 edge rows:\", edge_list[:5])\n",
    "\n",
    "# Print the number of nodes and edges in the network\n",
    "print('Number of nodes: ', len(nodes))\n",
    "print('Number of edges: ', len(edge_list))"
   ]
  },
  {
   "cell_type": "markdown",
   "metadata": {},
   "source": [
    "### 2. If $A$ reverted $B$, did $B$ revert $A$?\n",
    "\n",
    "Identify the two-event sequence in which after $A$ reverts $B$, $B$ reverts $A$ back ($AB–BA$) within 24 hours. To identify these sequences, we will use the revert data from the previous task. We will ignore the article titles — we are agnostic as to whether the response happens in the same or in different articles. Further, it does not matter whether the response occurs immediately after the original revert or alternatively, the reverter and the reverted are involved in other reverts in-between the original revert and the response. If more than one response occurs within 24 hours, we will consider only the first one as part of the event sequence."
   ]
  },
  {
   "cell_type": "code",
   "execution_count": 5,
   "metadata": {},
   "outputs": [
    {
     "name": "stdout",
     "output_type": "stream",
     "text": [
      "Number of AB-BA event sequences: 320\n"
     ]
    }
   ],
   "source": [
    "from edge_analysis import get_ab_ba_sequences\n",
    "\n",
    "# Use function to get AB-BA sequences, stored in a list of lists of dictionaries - [AB-row, BA-row]\n",
    "ab_ba_sequences = get_ab_ba_sequences(edge_list)\n",
    "\n",
    "# Print the number of AB-BA sequences\n",
    "print(\"Number of AB-BA event sequences:\", len(ab_ba_sequences))"
   ]
  },
  {
   "cell_type": "markdown",
   "metadata": {},
   "source": [
    "### 3. Are $A$ and $B$ more similar in seniority than expected?\n",
    "\n",
    "Social comparison theory states that people strive to gain accurate self-evaluations and as a result, they tend to compare themselves to those who are similar. But since focus on relative performance heightens feelings of competitiveness, rivalry is stronger among similar individuals. This leads us to expect that the editors involved in the $AB–BA$ event sequences tend to be closer in seniority than expected.\n",
    "\n",
    "We will compare  *absolute difference* in seniority between editors involved in $AB–BA$ event sequences with the absolute difference in seniority between editors involved in any other revert (all the reverts in the data that are not part of the AB–BA sequences).\n"
   ]
  },
  {
   "cell_type": "code",
   "execution_count": 6,
   "metadata": {
    "collapsed": true
   },
   "outputs": [
    {
     "data": {
      "image/png": "[encoded data removed]",
      "text/plain": [
       "<Figure size 640x480 with 1 Axes>"
      ]
     },
     "metadata": {},
     "output_type": "display_data"
    },
    {
     "name": "stdout",
     "output_type": "stream",
     "text": [
      "Mean Absolute Seniority Difference in AB-BA Reverts: 1.9298075651514286\n",
      "Mean Absolute Seniority Difference in Other Reverts: 2.533684927918258\n"
     ]
    }
   ],
   "source": [
    "import matplotlib.pyplot as plt\n",
    "\n",
    "# Store absolute seniority difference for reverts in AB-BA sequences and the rest\n",
    "ab_ba_seniority_diff = []\n",
    "other_reverts_seniority_diff = []\n",
    "\n",
    "# Note we're using the seniority measures recorded at time of BA revert, but using the AB version wouldn't make a significant difference\n",
    "\n",
    "# Extracting seniority differences for AB-BA sequences\n",
    "# Iterate over all AB-BA revert pairs\n",
    "for sequence in ab_ba_sequences:\n",
    "    # Get the BA revert data\n",
    "    ba_row = sequence[1]\n",
    "    a_seniority = ba_row['reverter_seniority']\n",
    "    b_seniority = ba_row['reverted_seniority']\n",
    "    # Store the absolute difference\n",
    "    ab_ba_seniority_diff.append(abs(b_seniority - a_seniority))\n",
    "\n",
    "# Flatten ab_ba_sequences to improve efficiency of next step\n",
    "ab_ba_sequences = [item for sublist in ab_ba_sequences for item in sublist]\n",
    "\n",
    "# Extracting seniority differences for all other reverts\n",
    "for edge in edge_list:\n",
    "    # Check if edge is in ab_ba_sequences\n",
    "    if edge not in ab_ba_sequences:\n",
    "        reverter_seniority = edge['reverter_seniority']\n",
    "        reverted_seniority = edge['reverted_seniority']\n",
    "        other_reverts_seniority_diff.append(abs(reverter_seniority - reverted_seniority))\n",
    "\n",
    "# Plot a histogram with the two distributions overlapping\n",
    "plt.hist(other_reverts_seniority_diff, bins=45, alpha=0.3, color = 'grey', label='Other Reverts')\n",
    "plt.hist(ab_ba_seniority_diff, bins=45, alpha=1, color= 'grey', label='AB-BA Reverts')\n",
    "plt.xlabel('Absolute Seniority Difference')\n",
    "plt.ylabel('Frequency')\n",
    "plt.title('Histogram of Absolute Seniority Differences')\n",
    "plt.legend()\n",
    "plt.show()\n",
    "\n",
    "# Print the mean abs. seniority diff. for reverts in AB-BA sequences and the rest\n",
    "mean_ab_ba_diff = sum(ab_ba_seniority_diff) / len(ab_ba_seniority_diff)\n",
    "mean_other_diff = sum(other_reverts_seniority_diff) / len(other_reverts_seniority_diff)\n",
    "\n",
    "print(\"Mean Absolute Seniority Difference in AB-BA Reverts:\", mean_ab_ba_diff)\n",
    "print(\"Mean Absolute Seniority Difference in Other Reverts:\", mean_other_diff)\n",
    "\n"
   ]
  }
 ],
 "metadata": {
  "kernelspec": {
   "display_name": "Python 3",
   "language": "python",
   "name": "python3"
  },
  "language_info": {
   "codemirror_mode": {
    "name": "ipython",
    "version": 3
   },
   "file_extension": ".py",
   "mimetype": "text/x-python",
   "name": "python",
   "nbconvert_exporter": "python",
   "pygments_lexer": "ipython3",
   "version": "3.13.1"
  }
 },
 "nbformat": 4,
 "nbformat_minor": 2
}
